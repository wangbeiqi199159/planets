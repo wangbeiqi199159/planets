{
 "cells": [
  {
   "cell_type": "markdown",
   "metadata": {},
   "source": [
    "# Documentation of my_function \n",
    "\n",
    "\n",
    "\n",
    "## Use of `my_function`\n",
    "--------------------------------------------------\n",
    "\n",
    "`my function.py` contains two functions:\n",
    "\n",
    "1. get_data():to download data from url\n",
    "    \n",
    "2. remove_data():to remove data from local address\n",
    "\n",
    "** get_data( url )**\n",
    "\n",
    "This is a function to download data from url if provided url is valid.\n",
    "\n",
    "--Parameters:\n",
    "\n",
    "        url is a character string of data file url address\n",
    "--Returns:\n",
    "\n",
    "        1. If file already exists, then return None value\n",
    "        \n",
    "        2. If download successes, then return bool value True\n",
    "        \n",
    "        3. If url is not valid, then raise an exception\n",
    "        \n",
    "Example Code:"
   ]
  },
  {
   "cell_type": "code",
   "execution_count": 1,
   "metadata": {
    "collapsed": false
   },
   "outputs": [
    {
     "name": "stderr",
     "output_type": "stream",
     "text": [
      "/Users/becky/anaconda/lib/python3.6/site-packages/urllib3/connectionpool.py:852: InsecureRequestWarning: Unverified HTTPS request is being made. Adding certificate verification is strongly advised. See: https://urllib3.readthedocs.io/en/latest/advanced-usage.html#ssl-warnings\n",
      "  InsecureRequestWarning)\n"
     ]
    },
    {
     "data": {
      "text/plain": [
       "True"
      ]
     },
     "execution_count": 1,
     "metadata": {},
     "output_type": "execute_result"
    }
   ],
   "source": [
    "from my_function import get_data\n",
    "\n",
    "url = \"https://data.seattle.gov/resource/4xy5-26gy.csv\"\n",
    "get_data(url)"
   ]
  },
  {
   "cell_type": "markdown",
   "metadata": {},
   "source": [
    "The data file `4xy5-26gy.csv` is sucessfully downloaded into the local folder."
   ]
  },
  {
   "cell_type": "markdown",
   "metadata": {},
   "source": [
    "** remove_data( filename ) **\n",
    "\n",
    "This is a function to remove data file if the provided filename exists.\n",
    "\n",
    "---parameters:\n",
    "\n",
    "        filename--character string, name of file to remove\n",
    "        \n",
    "---returns:\n",
    "\n",
    "        if removing succeeds, then return bool value True\n",
    "        \n",
    "        if removing failed, then raise an exception\n",
    "\n",
    "Example Code:"
   ]
  },
  {
   "cell_type": "code",
   "execution_count": 2,
   "metadata": {
    "collapsed": false
   },
   "outputs": [
    {
     "data": {
      "text/plain": [
       "True"
      ]
     },
     "execution_count": 2,
     "metadata": {},
     "output_type": "execute_result"
    }
   ],
   "source": [
    "from my_function import remove_data\n",
    "\n",
    "filename = \"4xy5-26gy.csv\"\n",
    "remove_data(filename)"
   ]
  },
  {
   "cell_type": "markdown",
   "metadata": {},
   "source": [
    "The file `4xy5-26gy.csv` is sucessfully removed from local address."
   ]
  },
  {
   "cell_type": "markdown",
   "metadata": {},
   "source": [
    "## Unit test of get_data() and remove_data()"
   ]
  },
  {
   "cell_type": "markdown",
   "metadata": {},
   "source": [
    "** `unit_test_getdata.py` file **\n",
    "\n",
    "This file will do an unit test for the get_data function from my_function.py\n",
    "\n",
    "There are three test cases:\n",
    "\n",
    "        case (a) file is present locally\n",
    "        \n",
    "        case (b) file is not present locally, and the URL points to a file that exists\n",
    "        \n",
    "        case (c) URL does not point to a file that exist\n",
    "    \n",
    "To run the file, just type code below in *command line*:\n",
    "\n",
    "```\n",
    "python unit_test_getdata.py\n",
    "```\n",
    "\n",
    "Or you can type below code in a *jupyter notebook cell*:\n",
    "\n",
    "```\n",
    "%run unit_test_getdata.py\n",
    "```\n",
    "\n",
    "If the running suceeds, you will get a result like this:\n",
    "\n",
    "```\n",
    "----------------------------------------------------------------------\n",
    "Ran 3 tests in 0.978s\n",
    "\n",
    "OK\n",
    "```"
   ]
  },
  {
   "cell_type": "markdown",
   "metadata": {},
   "source": [
    "** `unit_test_removedata.py` file **\n",
    "\n",
    "This file is an unit test for remove_data()function from my_function.py\n",
    "\n",
    "There is one test case: if file is present locally.\n",
    "\n",
    "To run the file, just type code below in *command line*:\n",
    "\n",
    "```\n",
    "python unit_test_removedata.py\n",
    "```\n",
    "\n",
    "Or you can type below code in a *jupyter notebook cell*:\n",
    "\n",
    "```\n",
    "%run unit_test_removedata.py\n",
    "```\n",
    "\n",
    "If the running suceeds, you will get a result like this:\n",
    "\n",
    "```\n",
    "----------------------------------------------------------------------\n",
    "Ran 1 test in 0.001s\n",
    "\n",
    "OK\n",
    "```"
   ]
  }
 ],
 "metadata": {
  "kernelspec": {
   "display_name": "Python 3",
   "language": "python",
   "name": "python3"
  },
  "language_info": {
   "codemirror_mode": {
    "name": "ipython",
    "version": 3
   },
   "file_extension": ".py",
   "mimetype": "text/x-python",
   "name": "python",
   "nbconvert_exporter": "python",
   "pygments_lexer": "ipython3",
   "version": "3.6.0"
  }
 },
 "nbformat": 4,
 "nbformat_minor": 2
}
