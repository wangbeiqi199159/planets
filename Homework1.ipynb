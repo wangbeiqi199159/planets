{
 "cells": [
  {
   "cell_type": "markdown",
   "metadata": {},
   "source": [
    "# Homework 1: Data Analysis Basics\n",
    "\n",
    "## Problem\n",
    "\n",
    "Obtain the CSV (comma separated variable) file containing the counts of bicycles crossing the Fremont Bridge since 2012 (as described in https://data.seattle.gov/browse?category=Transportation&limitTo=datasets&utf8=%E2%9C%93). Create directories for data and analysis. Download the data from https://data.seattle.gov/resource/4xy5-26gy.csv put it in the data directory. Create an iPython Notebook to analyze these data called 'Homework1.ipynb'. In the notebook: (1) Select the 2015 data, creating a new dataframe with fields for date, hour, and count, and use these data in questions (2)-(4); (2) use python matplotlib to plot the counts by hour; (3) compute the hourly average counts; and (4) determine what is the busiest hour of the day."
   ]
  },
  {
   "cell_type": "markdown",
   "metadata": {
    "collapsed": true
   },
   "source": [
    "## Solution"
   ]
  },
  {
   "cell_type": "code",
   "execution_count": 1,
   "metadata": {
    "collapsed": false
   },
   "outputs": [
    {
     "data": {
      "text/html": [
       "<div>\n",
       "<table border=\"1\" class=\"dataframe\">\n",
       "  <thead>\n",
       "    <tr style=\"text-align: right;\">\n",
       "      <th></th>\n",
       "      <th>date</th>\n",
       "      <th>fremont_bridge_nb</th>\n",
       "      <th>fremont_bridge_sb</th>\n",
       "    </tr>\n",
       "  </thead>\n",
       "  <tbody>\n",
       "    <tr>\n",
       "      <th>0</th>\n",
       "      <td>2017-01-09T06:00:00.000</td>\n",
       "      <td>55</td>\n",
       "      <td>28</td>\n",
       "    </tr>\n",
       "    <tr>\n",
       "      <th>1</th>\n",
       "      <td>2017-01-04T20:00:00.000</td>\n",
       "      <td>10</td>\n",
       "      <td>19</td>\n",
       "    </tr>\n",
       "    <tr>\n",
       "      <th>2</th>\n",
       "      <td>2017-01-18T13:00:00.000</td>\n",
       "      <td>18</td>\n",
       "      <td>18</td>\n",
       "    </tr>\n",
       "    <tr>\n",
       "      <th>3</th>\n",
       "      <td>2017-01-06T11:00:00.000</td>\n",
       "      <td>15</td>\n",
       "      <td>22</td>\n",
       "    </tr>\n",
       "    <tr>\n",
       "      <th>4</th>\n",
       "      <td>2017-01-27T11:00:00.000</td>\n",
       "      <td>38</td>\n",
       "      <td>39</td>\n",
       "    </tr>\n",
       "    <tr>\n",
       "      <th>5</th>\n",
       "      <td>2017-01-08T14:00:00.000</td>\n",
       "      <td>10</td>\n",
       "      <td>6</td>\n",
       "    </tr>\n",
       "    <tr>\n",
       "      <th>6</th>\n",
       "      <td>2017-01-06T23:00:00.000</td>\n",
       "      <td>3</td>\n",
       "      <td>8</td>\n",
       "    </tr>\n",
       "    <tr>\n",
       "      <th>7</th>\n",
       "      <td>2017-01-27T13:00:00.000</td>\n",
       "      <td>35</td>\n",
       "      <td>45</td>\n",
       "    </tr>\n",
       "    <tr>\n",
       "      <th>8</th>\n",
       "      <td>2017-01-18T03:00:00.000</td>\n",
       "      <td>0</td>\n",
       "      <td>1</td>\n",
       "    </tr>\n",
       "    <tr>\n",
       "      <th>9</th>\n",
       "      <td>2017-01-01T08:00:00.000</td>\n",
       "      <td>2</td>\n",
       "      <td>3</td>\n",
       "    </tr>\n",
       "  </tbody>\n",
       "</table>\n",
       "</div>"
      ],
      "text/plain": [
       "                      date  fremont_bridge_nb  fremont_bridge_sb\n",
       "0  2017-01-09T06:00:00.000                 55                 28\n",
       "1  2017-01-04T20:00:00.000                 10                 19\n",
       "2  2017-01-18T13:00:00.000                 18                 18\n",
       "3  2017-01-06T11:00:00.000                 15                 22\n",
       "4  2017-01-27T11:00:00.000                 38                 39\n",
       "5  2017-01-08T14:00:00.000                 10                  6\n",
       "6  2017-01-06T23:00:00.000                  3                  8\n",
       "7  2017-01-27T13:00:00.000                 35                 45\n",
       "8  2017-01-18T03:00:00.000                  0                  1\n",
       "9  2017-01-01T08:00:00.000                  2                  3"
      ]
     },
     "execution_count": 1,
     "metadata": {},
     "output_type": "execute_result"
    }
   ],
   "source": [
    "import pandas as pd\n",
    "import numpy as np\n",
    "import matplotlib as plt\n",
    "\n",
    "# load data\n",
    "data = pd.read_csv('4xy5-26gy.csv ')\n",
    "data.head(10)"
   ]
  },
  {
   "cell_type": "code",
   "execution_count": 2,
   "metadata": {
    "collapsed": false
   },
   "outputs": [
    {
     "data": {
      "text/html": [
       "<div>\n",
       "<table border=\"1\" class=\"dataframe\">\n",
       "  <thead>\n",
       "    <tr style=\"text-align: right;\">\n",
       "      <th></th>\n",
       "      <th>date</th>\n",
       "      <th>hour</th>\n",
       "      <th>count</th>\n",
       "    </tr>\n",
       "  </thead>\n",
       "  <tbody>\n",
       "    <tr>\n",
       "      <th>18</th>\n",
       "      <td>2015-11-15</td>\n",
       "      <td>02:00:00</td>\n",
       "      <td>0</td>\n",
       "    </tr>\n",
       "    <tr>\n",
       "      <th>27</th>\n",
       "      <td>2015-11-29</td>\n",
       "      <td>04:00:00</td>\n",
       "      <td>0</td>\n",
       "    </tr>\n",
       "    <tr>\n",
       "      <th>215</th>\n",
       "      <td>2015-11-21</td>\n",
       "      <td>02:00:00</td>\n",
       "      <td>0</td>\n",
       "    </tr>\n",
       "    <tr>\n",
       "      <th>336</th>\n",
       "      <td>2015-11-08</td>\n",
       "      <td>02:00:00</td>\n",
       "      <td>0</td>\n",
       "    </tr>\n",
       "    <tr>\n",
       "      <th>578</th>\n",
       "      <td>2015-11-08</td>\n",
       "      <td>04:00:00</td>\n",
       "      <td>0</td>\n",
       "    </tr>\n",
       "    <tr>\n",
       "      <th>619</th>\n",
       "      <td>2015-11-10</td>\n",
       "      <td>01:00:00</td>\n",
       "      <td>0</td>\n",
       "    </tr>\n",
       "    <tr>\n",
       "      <th>782</th>\n",
       "      <td>2015-12-18</td>\n",
       "      <td>21:00:00</td>\n",
       "      <td>24</td>\n",
       "    </tr>\n",
       "    <tr>\n",
       "      <th>783</th>\n",
       "      <td>2015-12-02</td>\n",
       "      <td>23:00:00</td>\n",
       "      <td>20</td>\n",
       "    </tr>\n",
       "    <tr>\n",
       "      <th>784</th>\n",
       "      <td>2015-12-13</td>\n",
       "      <td>03:00:00</td>\n",
       "      <td>4</td>\n",
       "    </tr>\n",
       "    <tr>\n",
       "      <th>785</th>\n",
       "      <td>2015-12-28</td>\n",
       "      <td>11:00:00</td>\n",
       "      <td>32</td>\n",
       "    </tr>\n",
       "  </tbody>\n",
       "</table>\n",
       "</div>"
      ],
      "text/plain": [
       "           date      hour  count\n",
       "18   2015-11-15  02:00:00      0\n",
       "27   2015-11-29  04:00:00      0\n",
       "215  2015-11-21  02:00:00      0\n",
       "336  2015-11-08  02:00:00      0\n",
       "578  2015-11-08  04:00:00      0\n",
       "619  2015-11-10  01:00:00      0\n",
       "782  2015-12-18  21:00:00     24\n",
       "783  2015-12-02  23:00:00     20\n",
       "784  2015-12-13  03:00:00      4\n",
       "785  2015-12-28  11:00:00     32"
      ]
     },
     "execution_count": 2,
     "metadata": {},
     "output_type": "execute_result"
    }
   ],
   "source": [
    "# question 1\n",
    "time = pd.DatetimeIndex(data.date)\n",
    "data['date'] = time.date\n",
    "data['hour'] = time.time\n",
    "data['year'] = time.year\n",
    "data['count'] = data['fremont_bridge_nb'] + data['fremont_bridge_sb']\n",
    "data_2015 = data[data.year == 2015]\n",
    "del data_2015['year']\n",
    "del data_2015['fremont_bridge_nb']\n",
    "del data_2015['fremont_bridge_sb']\n",
    "data_2015.head(10)"
   ]
  },
  {
   "cell_type": "code",
   "execution_count": 5,
   "metadata": {
    "collapsed": false
   },
   "outputs": [
    {
     "data": {
      "text/plain": [
       "<matplotlib.axes._subplots.AxesSubplot at 0x8312438>"
      ]
     },
     "execution_count": 5,
     "metadata": {},
     "output_type": "execute_result"
    },
    {
     "data": {
      "image/png": "[encoded data removed]",
      "text/plain": [
       "<matplotlib.figure.Figure at 0x8304710>"
      ]
     },
     "metadata": {},
     "output_type": "display_data"
    }
   ],
   "source": [
    "# question 2\n",
    "count_by_hour = data_2015.groupby(data_2015.hour)['count'].sum()\n",
    "%matplotlib inline\n",
    "count_by_hour.plot()"
   ]
  },
  {
   "cell_type": "code",
   "execution_count": 7,
   "metadata": {
    "collapsed": false
   },
   "outputs": [
    {
     "data": {
      "text/plain": [
       "hour\n",
       "00:00:00      7.125000\n",
       "01:00:00      2.700000\n",
       "02:00:00      1.083333\n",
       "03:00:00      2.000000\n",
       "04:00:00      3.000000\n",
       "05:00:00     19.666667\n",
       "06:00:00     63.000000\n",
       "07:00:00    122.500000\n",
       "08:00:00    191.714286\n",
       "09:00:00    102.111111\n",
       "10:00:00     65.142857\n",
       "11:00:00     36.571429\n",
       "12:00:00     35.714286\n",
       "13:00:00     53.142857\n",
       "14:00:00     62.444444\n",
       "15:00:00     64.250000\n",
       "16:00:00    138.090909\n",
       "17:00:00     94.750000\n",
       "18:00:00    140.000000\n",
       "19:00:00     46.500000\n",
       "20:00:00     27.800000\n",
       "21:00:00     21.714286\n",
       "22:00:00     16.000000\n",
       "23:00:00     12.875000\n",
       "Name: count, dtype: float64"
      ]
     },
     "execution_count": 7,
     "metadata": {},
     "output_type": "execute_result"
    }
   ],
   "source": [
    "# question 3\n",
    "avgc_by_hour = data_2015.groupby(data_2015.hour)['count'].mean()\n",
    "avgc_by_hour"
   ]
  },
  {
   "cell_type": "code",
   "execution_count": 16,
   "metadata": {
    "collapsed": false
   },
   "outputs": [
    {
     "data": {
      "text/plain": [
       "Index([08:00:00], dtype='object', name='hour')"
      ]
     },
     "execution_count": 16,
     "metadata": {},
     "output_type": "execute_result"
    }
   ],
   "source": [
    "avgc_by_hour.index[avgc_by_hour == max(avgc_by_hour)]"
   ]
  },
  {
   "cell_type": "code",
   "execution_count": null,
   "metadata": {
    "collapsed": true
   },
   "outputs": [],
   "source": []
  },
  {
   "cell_type": "code",
   "execution_count": null,
   "metadata": {
    "collapsed": true
   },
   "outputs": [],
   "source": []
  }
 ],
 "metadata": {
  "kernelspec": {
   "display_name": "Python 3",
   "language": "python",
   "name": "python3"
  },
  "language_info": {
   "codemirror_mode": {
    "name": "ipython",
    "version": 3
   },
   "file_extension": ".py",
   "mimetype": "text/x-python",
   "name": "python",
   "nbconvert_exporter": "python",
   "pygments_lexer": "ipython3",
   "version": "3.5.1"
  }
 },
 "nbformat": 4,
 "nbformat_minor": 0
}
